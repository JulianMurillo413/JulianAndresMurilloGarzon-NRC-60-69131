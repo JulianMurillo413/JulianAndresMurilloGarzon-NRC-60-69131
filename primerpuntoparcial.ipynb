{
  "nbformat": 4,
  "nbformat_minor": 0,
  "metadata": {
    "colab": {
      "provenance": [],
      "authorship_tag": "ABX9TyMeQzgJXKiBq75+Yb5I42Bx",
      "include_colab_link": true
    },
    "kernelspec": {
      "name": "python3",
      "display_name": "Python 3"
    },
    "language_info": {
      "name": "python"
    }
  },
  "cells": [
    {
      "cell_type": "markdown",
      "metadata": {
        "id": "view-in-github",
        "colab_type": "text"
      },
      "source": [
        "<a href=\"https://colab.research.google.com/github/JulianMurillo413/JulianAndresMurilloGarzon-NRC-60-69131/blob/main/primerpuntoparcial.ipynb\" target=\"_parent\"><img src=\"https://colab.research.google.com/assets/colab-badge.svg\" alt=\"Open In Colab\"/></a>"
      ]
    },
    {
      "cell_type": "code",
      "execution_count": null,
      "metadata": {
        "id": "UBppJII0iqV6"
      },
      "outputs": [],
      "source": [
        "circuito = [\"r1\", \"r2\", \"r3\", \"r4\", \"r5\"]\n",
        "valores = {}\n",
        "total = 0\n",
        "resistenciasMayoresDe100 = []\n",
        "\n",
        "for i in circuito:\n",
        "    valores[i] = int(input(f\"Ingrese el valor para la resistencia {i}: \"))\n",
        "\n",
        "for i in valores:\n",
        "    if valores[i] <= 100:\n",
        "        total += valores[i]\n",
        "    else:\n",
        "        resistenciasMayoresDe100.append(valores[i])\n",
        "\n",
        "if resistenciasMayoresDe100:\n",
        "    total_2 = 0\n",
        "    for resistencia in resistenciasMayoresDe100:\n",
        "        total_2 += 1 / resistencia\n",
        "    if total_2 > 0:\n",
        "        resistenciaParalela = 1 / total_2\n",
        "        total += resistenciaParalela\n",
        "\n",
        "\n",
        "print(\"La resistencia total del circuito es: {total}\")\n",
        "print(\"NRC:60-69131\")\n",
        "print(\"Julian ANdres Murillo Garzon\")\n",
        "print(\"Raul Andres Medina Toloza\")"
      ]
    }
  ]
}