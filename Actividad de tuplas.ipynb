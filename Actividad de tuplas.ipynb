{
  "nbformat": 4,
  "nbformat_minor": 0,
  "metadata": {
    "colab": {
      "provenance": [],
      "authorship_tag": "ABX9TyOnCFpPvsXZMhBboiDhkP+E",
      "include_colab_link": true
    },
    "kernelspec": {
      "name": "python3",
      "display_name": "Python 3"
    },
    "language_info": {
      "name": "python"
    }
  },
  "cells": [
    {
      "cell_type": "markdown",
      "metadata": {
        "id": "view-in-github",
        "colab_type": "text"
      },
      "source": [
        "<a href=\"https://colab.research.google.com/github/JulianMurillo413/JulianAndresMurilloGarzon-NRC-60-69131/blob/main/Actividad%20de%20tuplas.ipynb\" target=\"_parent\"><img src=\"https://colab.research.google.com/assets/colab-badge.svg\" alt=\"Open In Colab\"/></a>"
      ]
    },
    {
      "cell_type": "code",
      "execution_count": 1,
      "metadata": {
        "colab": {
          "base_uri": "https://localhost:8080/"
        },
        "id": "D99EQ-hmi3DP",
        "outputId": "642bca80-d6b0-47f2-9dbd-ec0099a0d4c1"
      },
      "outputs": [
        {
          "output_type": "stream",
          "name": "stdout",
          "text": [
            "La tupla frutas: ('apple', 'banana', 'cherry', 'date', 'fig', 'grape') contiene 6 elementos\n",
            "El tercer elemento de la tupla de frutas es: cherry\n",
            "EL primer color de la tupla de colores es: red\n",
            "EL segundo color de la tupla de colores es: green\n",
            "EL tercer color de la tupla de colores es: blue\n",
            "La tupla total de numeros es: (1, 2, 3, 4, 5, 6)\n",
            "La tupla repeticion multiplicada por 4 es: repeat repeat repeat repeat \n",
            "Los numeros de la tupla numbers son:\n",
            "10\n",
            "20\n",
            "30\n",
            "40\n",
            "50\n",
            "la tupla anidada es: ((1, 2, 3), ('a', 'b', 'c'))\n",
            "la letra e NO esta en la tupla letters\n",
            "La lista pasada a tupla es: (100, 200, 300, 400)\n",
            "El valor en el índice 2 es: 10\n",
            "Los numeros de la tupla de numeros del indice 1 al 4 son: (5, 10, 15, 20, 25)\n"
          ]
        }
      ],
      "source": [
        "#primer punto\n",
        "\n",
        "frutas = (\"apple\", \"banana\", \"cherry\", \"date\", \"fig\", \"grape\")\n",
        "print(\"La tupla frutas:\", frutas, \"contiene\", len(frutas), \"elementos\")\n",
        "\n",
        "#segundo punto\n",
        "\n",
        "print(\"El tercer elemento de la tupla de frutas es:\", frutas[2])\n",
        "\n",
        "#tercer punto\n",
        "\n",
        "colors = (\"red\", \"green\", \"blue\")\n",
        "color1, color2, color3 = colors\n",
        "print(\"EL primer color de la tupla de colores es:\",color1)\n",
        "print(\"EL segundo color de la tupla de colores es:\",color2)\n",
        "print(\"EL tercer color de la tupla de colores es:\",color3)\n",
        "\n",
        "#cuarto punto\n",
        "\n",
        "numeros1 = (1, 2, 3)\n",
        "numeros2 = (4, 5, 6)\n",
        "numerosTotales = numeros1 + numeros2\n",
        "print(\"La tupla total de numeros es:\",numerosTotales)\n",
        "\n",
        "#quinto punto\n",
        "\n",
        "repeticion = (\"repeat \") * 4\n",
        "print(\"La tupla repeticion multiplicada por 4 es:\",repeticion)\n",
        "\n",
        "#Sexto punto\n",
        "\n",
        "numbers = (10, 20, 30, 40, 50)\n",
        "print(\"Los numeros de la tupla numbers son:\")\n",
        "for i in numbers:\n",
        "    print(i)\n",
        "\n",
        "#septimo punto\n",
        "\n",
        "tuple1 = (1, 2, 3)\n",
        "tuple2 = (\"a\", \"b\", \"c\")\n",
        "tuplaAnidad = (tuple1, tuple2)\n",
        "print(\"la tupla anidada es:\",tuplaAnidad)\n",
        "\n",
        "#octavo punto\n",
        "\n",
        "letters = (\"a\", \"b\", \"c\", \"d\")\n",
        "if \"e\" in letters:\n",
        "    print(\"la letra e SI esta en la tupla letters\")\n",
        "else:\n",
        "    print(\"la letra e NO esta en la tupla letters\")\n",
        "\n",
        "#noveno punto\n",
        "\n",
        "my_list = [100, 200, 300, 400]\n",
        "my_tupla = tuple(my_list)\n",
        "print(\"La lista pasada a tupla es:\",my_tupla)\n",
        "\n",
        "#decimo punto\n",
        "\n",
        "tuplaNumeros = (5, 10, 15, 20, 25, 30, 35)\n",
        "print(\"El valor en el índice 2 es:\",(tuplaNumeros[1]))\n",
        "subTupla = tuplaNumeros[0:5]\n",
        "print(\"Los numeros de la tupla de numeros del indice 1 al 4 son:\",subTupla)"
      ]
    }
  ]
}