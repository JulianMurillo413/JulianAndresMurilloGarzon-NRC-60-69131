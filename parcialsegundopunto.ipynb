{
  "nbformat": 4,
  "nbformat_minor": 0,
  "metadata": {
    "colab": {
      "provenance": [],
      "authorship_tag": "ABX9TyOe+lVf0Z/oGl1MCVbR9O5o",
      "include_colab_link": true
    },
    "kernelspec": {
      "name": "python3",
      "display_name": "Python 3"
    },
    "language_info": {
      "name": "python"
    }
  },
  "cells": [
    {
      "cell_type": "markdown",
      "metadata": {
        "id": "view-in-github",
        "colab_type": "text"
      },
      "source": [
        "<a href=\"https://colab.research.google.com/github/JulianMurillo413/JulianAndresMurilloGarzon-NRC-60-69131/blob/main/parcialsegundopunto.ipynb\" target=\"_parent\"><img src=\"https://colab.research.google.com/assets/colab-badge.svg\" alt=\"Open In Colab\"/></a>"
      ]
    },
    {
      "cell_type": "code",
      "execution_count": null,
      "metadata": {
        "id": "uAkYB8FwjQdM"
      },
      "outputs": [],
      "source": [
        "pares=[0,2,4,6,8,10,12,14,16,18,20,22,24,26,28,30,32,34,36]\n",
        "impares=[1,3,5,7,9,11,13,15,17,19,21,23,25,27,29,31,33,35]\n",
        "primera_docena=[0,1,2,3,4,5,6,7,8,9,10,11,12]\n",
        "segunda_docena=[13,14,15,16,17,18,19,20,21,22,23,24]\n",
        "tercera_docena=[25,26,27,28,29,30,31,32,33,34,35,36]\n",
        "ruleta=10\n",
        "print(\"Número de la ruleta:\", ruleta)\n",
        "apuesta=input(\"Ingrese su apuesta (pares, impares, primera docena, segunda docena, tercera docena): \")\n",
        "grupo1=0\n",
        "if ruleta in pares:\n",
        "    grupo1=\"pares\"\n",
        "elif ruleta in impares:\n",
        "    grupo1=\"impares\"\n",
        "elif ruleta in primera_docena:\n",
        "   grupo1=\"primera docena\"\n",
        "elif ruleta in segunda_docena:\n",
        "    grupo1=\"segunda docena\"\n",
        "elif ruleta in tercera_docena:\n",
        "    grupo1=\"tercera docena\"\n",
        "else:\n",
        "    grupo1=\"fuera de los grupos\"\n",
        "if apuesta==grupo1:\n",
        "    print(f\"¡Felicidades! Ganaste. El número {ruleta} está en el grupo '{grupo1}'.\")\n",
        "else:\n",
        "    print(f\"Perdiste. El número {ruleta} está en el grupo '{grupo1}'.\")\n",
        "print(\"NRC:60-69131\")\n",
        "print(\"Julian ANdres Murillo Garzon\")\n",
        "print(\"Raul Andres Medina Toloza\")\n",
        ""
      ]
    }
  ]
}