{
  "nbformat": 4,
  "nbformat_minor": 0,
  "metadata": {
    "colab": {
      "provenance": [],
      "authorship_tag": "ABX9TyP5XqbdRN2fOukEKYjGJBFq",
      "include_colab_link": true
    },
    "kernelspec": {
      "name": "python3",
      "display_name": "Python 3"
    },
    "language_info": {
      "name": "python"
    }
  },
  "cells": [
    {
      "cell_type": "markdown",
      "metadata": {
        "id": "view-in-github",
        "colab_type": "text"
      },
      "source": [
        "<a href=\"https://colab.research.google.com/github/JulianMurillo413/JulianAndresMurilloGarzon-NRC-60-69131/blob/main/Tara%20arboles%20binarios.ipynb\" target=\"_parent\"><img src=\"https://colab.research.google.com/assets/colab-badge.svg\" alt=\"Open In Colab\"/></a>"
      ]
    },
    {
      "cell_type": "code",
      "execution_count": 2,
      "metadata": {
        "colab": {
          "base_uri": "https://localhost:8080/"
        },
        "id": "aXDasO2BOvVl",
        "outputId": "45072ac2-1bce-40ed-e635-6ffa40065a48"
      },
      "outputs": [
        {
          "output_type": "stream",
          "name": "stdout",
          "text": [
            "Construyendo un árbol para el conjunto a: [15, 6, 18, 3, 7, 17, 20, 2, 4, 13, 9]\n",
            "Recorrido en orden del árbol a: 2 3 4 6 7 9 13 15 17 18 20 \n",
            "                                       \n",
            "Construyendo un árbol para el conjunto b: [25, 15, 50, 10, 22, 35, 70, 4, 12, 18, 24, 31, 44, 66, 90]\n",
            "Recorrido en orden del árbol b: 4 10 12 15 18 22 24 25 31 35 44 50 66 70 90 \n",
            "                                       \n",
            "Construyendo un árbol para el conjunto c: [30, 20, 40, 10, 25, 35, 50]\n",
            "Recorrido en orden del árbol c: 10 20 25 30 35 40 50 \n",
            "                                       \n",
            "Construyendo un árbol para el conjunto d: [27, 14, 35, 10, 19, 31, 42, 9, 12, 18, 20, 30, 33, 38, 45]\n",
            "Recorrido en orden del árbol d: 9 10 12 14 18 19 20 27 30 31 33 35 38 42 45 \n",
            "                                       \n",
            "Julián Andrés Murillo Garzón - 920540 \n"
          ]
        }
      ],
      "source": [
        "class Nodo:\n",
        "    def __init__(self, clave):\n",
        "        self.clave = clave\n",
        "        self.izquierda = None\n",
        "        self.derecha = None\n",
        "\n",
        "class ArbolBinarioBusqueda:\n",
        "    def __init__(self):\n",
        "        self.raiz = None\n",
        "\n",
        "    def insertar(self, raiz, clave):\n",
        "        if raiz is None:\n",
        "            return Nodo(clave)\n",
        "        if clave < raiz.clave:\n",
        "            raiz.izquierda = self.insertar(raiz.izquierda, clave)\n",
        "        else:\n",
        "            raiz.derecha = self.insertar(raiz.derecha, clave)\n",
        "        return raiz\n",
        "\n",
        "    def recorrido_orden(self, raiz):\n",
        "        if raiz is not None:\n",
        "            self.recorrido_orden(raiz.izquierda)\n",
        "            print(raiz.clave, end=\" \")\n",
        "            self.recorrido_orden(raiz.derecha)\n",
        "\n",
        "    def construir_arbol(self, claves):\n",
        "        for clave in claves:\n",
        "            self.raiz = self.insertar(self.raiz, clave)\n",
        "\n",
        "conjuntos = {\n",
        "    'a': [15, 6, 18, 3, 7, 17, 20, 2, 4, 13, 9],\n",
        "    'b': [25, 15, 50, 10, 22, 35, 70, 4, 12, 18, 24, 31, 44, 66, 90],\n",
        "    'c': [30, 20, 40, 10, 25, 35, 50],\n",
        "    'd': [27, 14, 35, 10, 19, 31, 42, 9, 12, 18, 20, 30, 33, 38, 45],\n",
        "}\n",
        "\n",
        "arboles = { }\n",
        "\n",
        "for nombre, datos in conjuntos.items():\n",
        "    print(f\"Construyendo un árbol para el conjunto {nombre}: {datos}\")\n",
        "    abb = ArbolBinarioBusqueda()\n",
        "    abb.construir_arbol(datos)\n",
        "    arboles[nombre] = abb\n",
        "    print(f\"Recorrido en orden del árbol {nombre}: \", end=\"\")\n",
        "    abb.recorrido_orden(abb.raiz)\n",
        "    print(\"\\n                                       \")\n",
        "\n",
        "print(\"Julián Andrés Murillo Garzón - 920540 \")\n",
        "\n"
      ]
    }
  ]
}