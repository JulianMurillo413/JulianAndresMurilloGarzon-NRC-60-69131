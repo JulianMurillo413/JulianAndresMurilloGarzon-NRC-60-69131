{
  "nbformat": 4,
  "nbformat_minor": 0,
  "metadata": {
    "colab": {
      "provenance": [],
      "authorship_tag": "ABX9TyNptlmaTTHP6XLauDF6AaTU",
      "include_colab_link": true
    },
    "kernelspec": {
      "name": "python3",
      "display_name": "Python 3"
    },
    "language_info": {
      "name": "python"
    }
  },
  "cells": [
    {
      "cell_type": "markdown",
      "metadata": {
        "id": "view-in-github",
        "colab_type": "text"
      },
      "source": [
        "<a href=\"https://colab.research.google.com/github/JulianMurillo413/JulianAndresMurilloGarzon-NRC-60-69131/blob/main/Actividad%20diccionarios%20tuplas%20y%20listas.ipynb\" target=\"_parent\"><img src=\"https://colab.research.google.com/assets/colab-badge.svg\" alt=\"Open In Colab\"/></a>"
      ]
    },
    {
      "cell_type": "code",
      "execution_count": 1,
      "metadata": {
        "colab": {
          "base_uri": "https://localhost:8080/"
        },
        "id": "L4LIbA52m_JS",
        "outputId": "41e1929c-2f29-4431-8e87-55592b240d8a"
      },
      "outputs": [
        {
          "output_type": "stream",
          "name": "stdout",
          "text": [
            "la lista final es: [100, 30, 20]\n",
            "Camisas con precios mayores a 100 dolares son: {'camisa_roja': 150, 'camisa_gris': 134, 'camsia_vinotinto': 101}\n",
            "La cantidad de veces que se repiten las palabras son: {'manzana': 2, 'banana': 2, 'pera': 1}\n",
            "Ingrese el número de filas de la matriz: 3\n",
            "Ingrese el número de columnas de la matriz: 3\n",
            "Ingrese el valor para la posición (1, 1): 1\n",
            "Ingrese el valor para la posición (1, 2): 2\n",
            "Ingrese el valor para la posición (1, 3): 3\n",
            "Ingrese el valor para la posición (2, 1): 4\n",
            "Ingrese el valor para la posición (2, 2): 5\n",
            "Ingrese el valor para la posición (2, 3): 6\n",
            "Ingrese el valor para la posición (3, 1): 7\n",
            "Ingrese el valor para la posición (3, 2): 8\n",
            "Ingrese el valor para la posición (3, 3): 9\n",
            "\n",
            "Matriz ingresada:\n",
            "[1, 2, 3]\n",
            "[4, 5, 6]\n",
            "[7, 8, 9]\n",
            "\n",
            "Suma de todos los elementos: 45\n",
            "Promedio de los elementos: 5.00\n",
            "La suma total de los precios es: 13015805 dolares\n"
          ]
        }
      ],
      "source": [
        "#primer punto\n",
        "\n",
        "numeros = [100, 30, 20]\n",
        "numeros_tupla = tuple(numeros)\n",
        "numeros_lista = list(numeros_tupla)\n",
        "print(\"la lista final es:\",numeros_lista)\n",
        "\n",
        "#Segundo punto\n",
        "\n",
        "camisas = (\"camisa_roja\",\"camisa_azul\",\"camisa_verde\",\"camisa_gris\",\"camisa_vinotinto\",\"camisa_beige\",\"camisa_blanca\")\n",
        "precios = {\n",
        "    \"camisa_roja\":150,\n",
        "    \"camisa_azul\":20,\n",
        "    \"camisa_verde\":30,\n",
        "    \"camisa_gris\":134,\n",
        "    \"camsia_vinotinto\":101,\n",
        "    \"camisa_beige\":65,\n",
        "    \"camisa_blanca\":65,\n",
        "}\n",
        "camisas_mayores_100 = {camisa: precio for camisa, precio in precios.items() if precio > 100}\n",
        "print(\"Camisas con precios mayores a 100 dolares son:\", camisas_mayores_100)\n",
        "\n",
        "#Tecer punto\n",
        "\n",
        "palabras = [\"manzana\", \"banana\", \"manzana\", \"pera\", \"banana\"]\n",
        "conteo_palabras = {}\n",
        "for palabra in palabras:\n",
        "    if palabra in conteo_palabras:\n",
        "        conteo_palabras[palabra] += 1\n",
        "    else:\n",
        "        conteo_palabras[palabra] = 1\n",
        "print(\"La cantidad de veces que se repiten las palabras son:\",conteo_palabras)\n",
        "\n",
        "#Cuarto punto\n",
        "\n",
        "def ingresar_matriz(filas, columnas):\n",
        "    matriz = []\n",
        "    for i in range(filas):\n",
        "        fila = []\n",
        "        for j in range(columnas):\n",
        "            valor = int(input(f\"Ingrese el valor para la posición ({i+1}, {j+1}): \"))\n",
        "            fila.append(valor)\n",
        "        matriz.append(fila)\n",
        "    return matriz\n",
        "def sumar_matriz(matriz):\n",
        "    suma = 0\n",
        "    for fila in matriz:\n",
        "        suma += sum(fila)\n",
        "    return suma\n",
        "def calcular_promedio(matriz, suma):\n",
        "    total_elementos = len(matriz) * len(matriz[0])\n",
        "    promedio = suma / total_elementos\n",
        "    return promedio\n",
        "filas = int(input(\"Ingrese el número de filas de la matriz: \"))\n",
        "columnas = int(input(\"Ingrese el número de columnas de la matriz: \"))\n",
        "matriz = ingresar_matriz(filas, columnas)\n",
        "suma = sumar_matriz(matriz)\n",
        "promedio = calcular_promedio(matriz, suma)\n",
        "print(\"\\nMatriz ingresada:\")\n",
        "for fila in matriz:\n",
        "    print(fila)\n",
        "print(f\"\\nSuma de todos los elementos: {suma}\")\n",
        "print(f\"Promedio de los elementos: {promedio:.2f}\")\n",
        "\n",
        "#Quinto punto\n",
        "\n",
        "productos = [\n",
        "    {\"nombre\": \"reloj\", \"precio\": 100},\n",
        "    {\"nombre\": \"gafas\", \"precio\": 15},\n",
        "    {\"nombre\": \"gorra\", \"precio\": 50},\n",
        "\n",
        "    {\"nombre\": \"monitor\", \"precio\": 150},\n",
        "    {\"nombre\": \"mouse\", \"precio\": 90},\n",
        "    {\"nombre\": \"teclado\", \"precio\": 400},\n",
        "\n",
        "    {\"nombre\": \"lancha\", \"precio\": 10000},\n",
        "    {\"nombre\": \"auto\", \"precio\": 5000},\n",
        "    {\"nombre\": \"avion\", \"precio\": 13000000},\n",
        "]\n",
        "suma_total = sum(producto[\"precio\"] for producto in productos)\n",
        "print(f\"La suma total de los precios es: {suma_total} dolares\")"
      ]
    }
  ]
}