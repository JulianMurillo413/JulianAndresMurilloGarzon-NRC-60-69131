{
  "nbformat": 4,
  "nbformat_minor": 0,
  "metadata": {
    "colab": {
      "provenance": [],
      "authorship_tag": "ABX9TyM1bgEUmkd3AyKKnoF06gAT",
      "include_colab_link": true
    },
    "kernelspec": {
      "name": "python3",
      "display_name": "Python 3"
    },
    "language_info": {
      "name": "python"
    }
  },
  "cells": [
    {
      "cell_type": "markdown",
      "metadata": {
        "id": "view-in-github",
        "colab_type": "text"
      },
      "source": [
        "<a href=\"https://colab.research.google.com/github/JulianMurillo413/JulianAndresMurilloGarzon-NRC-60-69131/blob/main/Untitled0.ipynb\" target=\"_parent\"><img src=\"https://colab.research.google.com/assets/colab-badge.svg\" alt=\"Open In Colab\"/></a>"
      ]
    },
    {
      "cell_type": "code",
      "execution_count": 1,
      "metadata": {
        "colab": {
          "base_uri": "https://localhost:8080/"
        },
        "id": "W8tJ3N68nW5M",
        "outputId": "7d434acd-6b60-4427-d7e6-4aa83bafdba6"
      },
      "outputs": [
        {
          "output_type": "stream",
          "name": "stdout",
          "text": [
            "Julián, de 18 años y sexo masculino, que mide 1.77m, esta corriendo\n",
            "Julián, de 18 años y sexo masculino, que mide 1.77m, esta hablando\n",
            "Julián, de sexo masculino y 18 años de edad, está contratado con un salario de 500\n",
            "Andrés, de 20 años y sexo masculino, que mide 1.8m, esta corriendo\n",
            "Andrés, de 20 años y sexo masculino, que mide 1.8m, esta hablando\n",
            "Julián, de sexo masculino y 18 años de edad, está contratado con un salario de 500\n",
            "Andrés, de 20 años y sexo masculino, que mide 1.8m, esta corriendo\n",
            "Andrés, de 20 años y sexo masculino, que mide 1.8m, esta hablando\n"
          ]
        }
      ],
      "source": [
        "#crear clase\n",
        "\n",
        "class Persona:\n",
        "    def __init__(self, nombre, edad, genero, altura):\n",
        "\n",
        "        self.nombre = nombre\n",
        "        self.edad = edad\n",
        "        self.genero = genero\n",
        "        self.altura = altura\n",
        "\n",
        "    def correr(self):\n",
        "        return f\"{self.nombre}, de {self.edad} años y sexo {self.genero}, que mide {self.altura}m, esta corriendo\"\n",
        "\n",
        "    def hablar(self):\n",
        "        return f\"{self.nombre}, de {self.edad} años y sexo {self.genero}, que mide {self.altura}m, esta hablando\"\n",
        "\n",
        "#subclase\n",
        "\n",
        "class Empleado(Persona):\n",
        "    def __init__(self, nombre, edad, genero, altura, contratado, salario):\n",
        "        super().__init__(nombre, edad, genero, altura)\n",
        "\n",
        "        self.contratado = contratado\n",
        "        self.salario = salario\n",
        "\n",
        "    def tiene_empleo(self):\n",
        "\n",
        "        return f\"{self.nombre}, de sexo {self.genero} y {self.edad} años de edad, está {self.contratado} con un salario de {self.salario}\"\n",
        "\n",
        "def definir_persona(persona):\n",
        "\n",
        "    print(persona.correr())\n",
        "    print(persona.hablar())\n",
        "    if isinstance(persona, Empleado):\n",
        "        print(persona.tiene_empleo())\n",
        "\n",
        "#crear instancias\n",
        "\n",
        "persona1 = Empleado(\"Julián\", 18, \"masculino\", 1.77, \"contratado\", 500)\n",
        "persona2 = Persona(\"Andrés\", 20, \"masculino\", 1.80)\n",
        "\n",
        "definir_persona(persona1)\n",
        "definir_persona(persona2)\n",
        "\n",
        "#llamar metodos\n",
        "\n",
        "print(persona1.tiene_empleo())\n",
        "print(persona2.correr())\n",
        "print(persona2.hablar())"
      ]
    }
  ]
}